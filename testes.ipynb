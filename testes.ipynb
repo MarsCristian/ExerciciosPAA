{
 "cells": [
  {
   "cell_type": "code",
   "execution_count": 1,
   "metadata": {},
   "outputs": [],
   "source": [
    "#exercicio Em Trenos\n",
    "#Cristian Cesar Martins 799714\n",
    "#Vitor Gabriel Orsin 801575\n",
    "#-------------------------------------------------------------------------------------#\n",
    "#libs\n",
    "from heapq import heappop, heappush #usando heap para otimizar o djikstra\n",
    "import igraph as ig\n",
    "#input\n",
    "# m = num salas\n",
    "# e = ligacoes entre salas\n",
    "# n = ligacoes por tubo\n",
    "# c = consultas\n",
    "m, e, n, c = map(int,input().split())\n",
    "#lendo caminhos \n",
    "#u = sala inicial\n",
    "#v = sala final\n",
    "#d = peso da arest\n",
    "#-------------------------------------------------------------------------------------#\n",
    "#grafo\n",
    "G = ig.Graph()\n",
    "Gimpostor = ig.Graph()"
   ]
  },
  {
   "cell_type": "code",
   "execution_count": 8,
   "metadata": {},
   "outputs": [
    {
     "name": "stdout",
     "output_type": "stream",
     "text": [
      "[0.0, 1.0, 2.9, 0.0, 2.0, 2.0, 0.0, 3.0, 0.9, 0.0, 4.0, 2.7, 0.0, 7.0, 2.9, 1.0, 2.0, 2.5, 1.0, 3.0, 1.8, 1.0, 5.0, 2.0, 1.0, 6.0, 0.7, 2.0, 3.0, 1.8, 2.0, 4.0, 1.0, 2.0, 11.0, 1.0, 2.0, 12.0, 1.3, 3.0, 4.0, 0.7, 3.0, 7.0, 0.5, 3.0, 12.0, 1.4, 4.0, 5.0, 2.1, 4.0, 7.0, 0.8, 4.0, 15.0, 0.8, 4.0, 16.0, 2.1, 5.0, 6.0, 1.5, 5.0, 8.0, 0.7, 5.0, 9.0, 0.9, 6.0, 7.0, 0.8, 6.0, 8.0, 1.6, 6.0, 11.0, 1.8, 6.0, 14.0, 1.3, 7.0, 8.0, 2.9, 7.0, 9.0, 1.7, 7.0, 10.0, 1.2, 7.0, 11.0, 2.0, 7.0, 13.0, 1.2, 8.0, 9.0, 2.4, 8.0, 10.0, 2.3, 8.0, 11.0, 2.1, 8.0, 14.0, 2.6, 8.0, 17.0, 2.0, 8.0, 19.0, 1.8, 9.0, 10.0, 2.1, 9.0, 11.0, 2.2, 9.0, 12.0, 2.8, 9.0, 13.0, 1.4, 9.0, 14.0, 2.8, 10.0, 11.0, 1.1, 10.0, 12.0, 2.7, 11.0, 12.0, 2.1, 11.0, 13.0, 0.9, 11.0, 16.0, 0.8, 11.0, 18.0, 0.9, 12.0, 13.0, 2.1, 12.0, 14.0, 2.3, 12.0, 15.0, 1.3, 13.0, 14.0, 0.7, 13.0, 15.0, 1.2, 13.0, 16.0, 2.9, 13.0, 17.0, 2.7, 14.0, 15.0, 1.9, 14.0, 16.0, 1.0, 14.0, 18.0, 0.6, 15.0, 16.0, 2.9, 15.0, 19.0, 0.5, 16.0, 17.0, 1.6, 17.0, 18.0, 1.2, 17.0, 19.0, 2.6, 18.0, 19.0, 0.9]\n"
     ]
    }
   ],
   "source": [
    "#caminhos\n",
    "ipt = list(map(float,input().split()))\n",
    "print(ipt)\n",
    "for i in range(0,(len(ipt)),3):\n",
    "    if i < 2*e:\n",
    "        u = ipt[i]\n",
    "        v = ipt[i+1]\n",
    "        d = ipt[i+2]\n",
    "        G.add_vertex(u)\n",
    "        G.add_vertex(v)\n",
    "        Gimpostor.add_vertex(u)\n",
    "        Gimpostor.add_vertex(v)\n",
    "        \n",
    "        G.add_edge(int(u),int(v),weight=d)\n",
    "        Gimpostor.add_edge(int(u),int(v),weight=d)"
   ]
  },
  {
   "cell_type": "code",
   "execution_count": 9,
   "metadata": {},
   "outputs": [],
   "source": [
    "#le as vent\n",
    "ipt = list(map(float,input().split()))\n",
    "for i in range(0,len(ipt),2):\n",
    "    u = ipt[i]\n",
    "    v = ipt[i+1]\n",
    "    Gimpostor.add_vertex(u)\n",
    "    Gimpostor.add_vertex(v)\n",
    "    Gimpostor.add_edge(int(u),int(v),weight=1.0)"
   ]
  },
  {
   "cell_type": "code",
   "execution_count": 12,
   "metadata": {},
   "outputs": [
    {
     "name": "stdout",
     "output_type": "stream",
     "text": [
      "[16, 7, 1, 0, 4, 8, 10, 9, 13, 19, 15, 14, 18, 2, 11]\n"
     ]
    }
   ],
   "source": [
    "#le asconsultas\n",
    "consultas = []\n",
    "ipt = list(map(int,input().split()))\n",
    "for i in range(c):\n",
    "    consultas.append(ipt[i])\n",
    "\n",
    "print(consultas)"
   ]
  },
  {
   "cell_type": "code",
   "execution_count": 13,
   "metadata": {},
   "outputs": [
    {
     "name": "stdout",
     "output_type": "stream",
     "text": [
      "IGRAPH UNW- 88 44 --\n",
      "+ attr: name (v), weight (e)\n",
      "+ edges (vertex names):\n",
      "0.0--1.0, 0.0--0.0, 0.0--2.0, 0.0--0.0, 0.0--4.0, 1.0--0.0, 1.0--2.0,\n",
      "1.0--3.0, 1.0--0.0, 0.0--2.0, 0.0--0.0, 0.0--2.0, 0.0--1.0, 2.0--0.0,\n",
      "2.0--4.0, 2.0--1.0, 0.0--3.0, 0.0--4.0, 0.0--5.0, 0.0--1.0, 3.0--0.0,\n",
      "3.0--0.0, 3.0--7.0, 0.0--4.0, 0.0--0.0, 0.0--2.0, 0.0--1.0, 4.0--0.0,\n",
      "4.0--7.0, 4.0--1.0, 4.0--2.0, 4.0--3.0, 0.0--7.0, 0.0--1.0, 0.0--2.0,\n",
      "0.0--1.0, 0.0--6.0, 0.0--3.0, 7.0--1.0, 7.0--2.0, 7.0--1.0, 7.0--3.0,\n",
      "7.0--1.0, 1.0--2.0\n",
      "IGRAPH UNW- 126 63 --\n",
      "+ attr: name (v), weight (e)\n",
      "+ edges (vertex names):\n",
      "0.0--1.0, 0.0--0.0, 0.0--2.0, 0.0--0.0, 0.0--4.0, 1.0--0.0, 1.0--2.0,\n",
      "1.0--3.0, 1.0--0.0, 0.0--2.0, 0.0--0.0, 0.0--2.0, 0.0--1.0, 2.0--0.0,\n",
      "2.0--4.0, 2.0--1.0, 0.0--3.0, 0.0--4.0, 0.0--5.0, 0.0--1.0, 3.0--0.0,\n",
      "3.0--0.0, 3.0--7.0, 0.0--4.0, 0.0--0.0, 0.0--2.0, 0.0--1.0, 4.0--0.0,\n",
      "4.0--7.0, 4.0--1.0, 4.0--2.0, 4.0--3.0, 0.0--7.0, 0.0--1.0, 0.0--2.0,\n",
      "0.0--1.0, 0.0--6.0, 0.0--3.0, 7.0--1.0, 7.0--2.0, 7.0--1.0, 7.0--3.0,\n",
      "7.0--1.0, 1.0--2.0, 0.0--3.0, 2.0--0.0, 2.0--4.0, 0.0--1.0, 0.0--4.0,\n",
      "0.0--7.0, 4.0--1.0, 4.0--2.0, 4.0--1.0, 0.0--1.0, 1.0--2.0, 1.0--2.0,\n",
      "2.0--1.0, 3.0--1.0, 1.0--5.0, 1.0--2.0, 5.0--6.0, 1.0--6.0, 1.0--2.0\n"
     ]
    }
   ],
   "source": [
    "print(G)\n",
    "print(Gimpostor)"
   ]
  },
  {
   "cell_type": "code",
   "execution_count": 14,
   "metadata": {},
   "outputs": [],
   "source": [
    "def dijkstra(graph, start, end):\n",
    "    # inicializa as distâncias para todos os vértices como infinito\n",
    "    distances = [float('inf')] * graph.vcount()\n",
    "    # o vértice inicial tem distância 0\n",
    "    distances[start] = 0\n",
    "    \n",
    "    # lista de vértices visitados\n",
    "    visited = []\n",
    "    # lista de vértices não visitados\n",
    "    unvisited = list(range(graph.vcount()))\n",
    "    \n",
    "    while unvisited:\n",
    "        # seleciona o vértice não visitado com menor distância atual\n",
    "        current = min(unvisited, key=lambda v: distances[v])\n",
    "        # remove o vértice da lista de não visitados e adiciona na lista de visitados\n",
    "        unvisited.remove(current)\n",
    "        visited.append(current)\n",
    "        \n",
    "        # para cada vizinho do vértice atual\n",
    "        for neighbor in graph.neighbors(current):\n",
    "            # calcula a nova distância a partir do vértice atual\n",
    "            new_distance = distances[current] + graph.es[graph.get_eid(current, neighbor)]['weight']\n",
    "            # se a nova distância for menor do que a distância atual do vizinho\n",
    "            if new_distance < distances[neighbor]:\n",
    "                # atualiza a distância do vizinho\n",
    "                distances[neighbor] = new_distance\n",
    "    \n",
    "    # retorna a distância do vértice inicial ao vértice final\n",
    "    return distances[end]"
   ]
  },
  {
   "cell_type": "code",
   "execution_count": 16,
   "metadata": {},
   "outputs": [
    {
     "name": "stdout",
     "output_type": "stream",
     "text": [
      "3.6999999999999997\n",
      "3.6999999999999997\n",
      "victory\n",
      "1.9\n",
      "1.4\n",
      "victory\n",
      "2.6\n",
      "2.7\n",
      "defeat\n",
      "0\n",
      "0\n",
      "victory\n",
      "1.6\n",
      "1.6\n",
      "victory\n",
      "3.5\n",
      "3.8000000000000003\n",
      "defeat\n",
      "2.9\n",
      "2.6\n",
      "victory\n",
      "2.9\n",
      "3.1\n",
      "defeat\n",
      "3.1\n",
      "2.6\n",
      "victory\n",
      "5.300000000000001\n",
      "5.6000000000000005\n",
      "defeat\n",
      "2.4\n",
      "2.4\n",
      "victory\n",
      "3.1999999999999997\n",
      "3.5\n",
      "defeat\n",
      "3.9\n",
      "inf\n",
      "defeat\n",
      "2.0\n",
      "2.0\n",
      "victory\n",
      "2.9\n",
      "3.0\n",
      "defeat\n"
     ]
    }
   ],
   "source": [
    "for sala in consultas:\n",
    "    \n",
    "    distancia_impostor = dijkstra(Gimpostor,sala,0)\n",
    "    print(distancia_impostor)\n",
    "    distancia_player = dijkstra(G,sala,0)\n",
    "    print(distancia_player)\n",
    "    if distancia_impostor >= distancia_player:\n",
    "        print('victory')\n",
    "    else:\n",
    "        print('defeat')"
   ]
  },
  {
   "cell_type": "code",
   "execution_count": 18,
   "metadata": {},
   "outputs": [],
   "source": [
    "def dijkstraa(graph, start, end):\n",
    "    # Inicialização das variáveis\n",
    "    dist = {vertex: float('inf') for vertex in graph}\n",
    "    dist[start] = 0\n",
    "    visited = set()\n",
    "    path = {}\n",
    "\n",
    "    while len(visited) < len(graph):\n",
    "        # Seleciona o vértice com a menor distância\n",
    "        current_vertex = min(set(dist.keys()) - visited, key=dist.get)\n",
    "\n",
    "        # Para cada vizinho do vértice atual, atualiza a distância mínima\n",
    "        for neighbor in graph[current_vertex]:\n",
    "            tentative_distance = dist[current_vertex] + graph[current_vertex][neighbor]\n",
    "            if tentative_distance < dist[neighbor]:\n",
    "                dist[neighbor] = tentative_distance\n",
    "                path[neighbor] = current_vertex\n",
    "\n",
    "        visited.add(current_vertex)\n",
    "\n",
    "    # Reconstrói o caminho mínimo\n",
    "    path_list = []\n",
    "    current = end\n",
    "    while current != start:\n",
    "        try:\n",
    "            path_list.insert(0, current)\n",
    "            current = path[current]\n",
    "        except KeyError:\n",
    "            return \"Não há caminho possível de {} a {}\".format(start, end)\n",
    "\n",
    "    path_list.insert(0, start)\n",
    "    return dist[end], path_list\n"
   ]
  },
  {
   "cell_type": "code",
   "execution_count": 19,
   "metadata": {},
   "outputs": [
    {
     "ename": "TypeError",
     "evalue": "'Graph' object is not iterable",
     "output_type": "error",
     "traceback": [
      "\u001b[1;31m---------------------------------------------------------------------------\u001b[0m",
      "\u001b[1;31mTypeError\u001b[0m                                 Traceback (most recent call last)",
      "Cell \u001b[1;32mIn[19], line 3\u001b[0m\n\u001b[0;32m      1\u001b[0m \u001b[39mfor\u001b[39;00m sala \u001b[39min\u001b[39;00m consultas:\n\u001b[1;32m----> 3\u001b[0m     distancia_impostor \u001b[39m=\u001b[39m dijkstraa(Gimpostor,sala,\u001b[39m0\u001b[39;49m)\n\u001b[0;32m      4\u001b[0m     \u001b[39mprint\u001b[39m(distancia_impostor)\n\u001b[0;32m      5\u001b[0m     distancia_player \u001b[39m=\u001b[39m dijkstraa(G,sala,\u001b[39m0\u001b[39m)\n",
      "Cell \u001b[1;32mIn[18], line 3\u001b[0m, in \u001b[0;36mdijkstraa\u001b[1;34m(graph, start, end)\u001b[0m\n\u001b[0;32m      1\u001b[0m \u001b[39mdef\u001b[39;00m \u001b[39mdijkstraa\u001b[39m(graph, start, end):\n\u001b[0;32m      2\u001b[0m     \u001b[39m# Inicialização das variáveis\u001b[39;00m\n\u001b[1;32m----> 3\u001b[0m     dist \u001b[39m=\u001b[39m {vertex: \u001b[39mfloat\u001b[39m(\u001b[39m'\u001b[39m\u001b[39minf\u001b[39m\u001b[39m'\u001b[39m) \u001b[39mfor\u001b[39;00m vertex \u001b[39min\u001b[39;00m graph}\n\u001b[0;32m      4\u001b[0m     dist[start] \u001b[39m=\u001b[39m \u001b[39m0\u001b[39m\n\u001b[0;32m      5\u001b[0m     visited \u001b[39m=\u001b[39m \u001b[39mset\u001b[39m()\n",
      "\u001b[1;31mTypeError\u001b[0m: 'Graph' object is not iterable"
     ]
    }
   ],
   "source": [
    "for sala in consultas:\n",
    "    \n",
    "    distancia_impostor = dijkstraa(Gimpostor,sala,0)\n",
    "    print(distancia_impostor)\n",
    "    distancia_player = dijkstraa(G,sala,0)\n",
    "    print(distancia_player)\n",
    "    if distancia_impostor >= distancia_player:\n",
    "        print('victory')\n",
    "    else:\n",
    "        print('defeat')"
   ]
  },
  {
   "cell_type": "code",
   "execution_count": null,
   "metadata": {},
   "outputs": [],
   "source": [
    "# Criando matriz vazia\n",
    "n_vertices = 20\n",
    "adj_matrix = [[0]*n_vertices for _ in range(n_vertices)]\n",
    "\n",
    "# Inserindo arestas com peso\n",
    "peso_1 = [(2,5), (3,6), (3,7), (4,12), (6,7), (6,9), (7,10), (7,11), (7,12), (8,10), (10,11), (10,18), (11,12), (13,14), (14,15), (14,18), (15,17), (16,17), (16,18)]\n",
    "peso_2 = [(0,1,2.9), (0,2,2.0), (0,3,0.9), (0,4,2.7), (0,7,2.9), (1,2,2.5), (1,3,1.8), (1,5,2.0), (1,6,0.7), (2,3,1.8), (2,4,1.0), (2,11,1.0), (2,12,1.3), (3,4,0.7), (3,7,0.5), (3,12,1.4), (4,5,2.1), (4,7,0.8), (4,15,0.8), (4,16,2.1), (5,6,1.5), (5,8,0.7), (5,9,0.9), (6,7,0.8), (6,8,1.6), (6,11,1.8), (6,14,1.3), (7,8,2.9), (7,9,1.7), (7,10,1.2), (7,11,2.0), (7,13,1.2), (8,9,2.4), (8,10,2.3), (8,11,2.1), (8,14,2.6), (8,17,2.0), (8,19,1.8), (9,10,2.1), (9,11,2.2), (9,12,2.8), (9,13,1.4), (9,14,2.8), (10,11,1.1), (10,12,2.7), (11,12,2.1), (11,13,0.9), (11,16,0.8), (11,18,0.9), (12,13,2.1), (12,14,2.3), (12,15,1.3), (13,14,0.7), (13,15,1.2), (13,16,2.9), (13,17,2.7), (14,15,1.9), (14,16,1.0), (14,18,0.6), (15,16,2\n"
   ]
  }
 ],
 "metadata": {
  "kernelspec": {
   "display_name": "Python 3",
   "language": "python",
   "name": "python3"
  },
  "language_info": {
   "codemirror_mode": {
    "name": "ipython",
    "version": 3
   },
   "file_extension": ".py",
   "mimetype": "text/x-python",
   "name": "python",
   "nbconvert_exporter": "python",
   "pygments_lexer": "ipython3",
   "version": "3.11.1"
  },
  "orig_nbformat": 4
 },
 "nbformat": 4,
 "nbformat_minor": 2
}
